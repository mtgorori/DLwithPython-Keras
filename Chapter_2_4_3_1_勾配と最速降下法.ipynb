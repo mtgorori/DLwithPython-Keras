{
  "nbformat": 4,
  "nbformat_minor": 0,
  "metadata": {
    "colab": {
      "name": "Chapter 2.4-3.1 勾配と最速降下法",
      "version": "0.3.2",
      "provenance": [],
      "collapsed_sections": []
    },
    "kernelspec": {
      "name": "python3",
      "display_name": "Python 3"
    }
  },
  "cells": [
    {
      "cell_type": "markdown",
      "metadata": {
        "id": "view-in-github",
        "colab_type": "text"
      },
      "source": [
        "[View in Colaboratory](https://colab.research.google.com/github/mtgorori/DLwithPython-Keras/blob/master/Chapter_2_4_3_1_%E5%8B%BE%E9%85%8D%E3%81%A8%E6%9C%80%E9%80%9F%E9%99%8D%E4%B8%8B%E6%B3%95.ipynb)"
      ]
    },
    {
      "metadata": {
        "id": "Z4r4kIFNmdDo",
        "colab_type": "text"
      },
      "cell_type": "markdown",
      "source": [
        "# 2.4 勾配ベースの最適化"
      ]
    },
    {
      "metadata": {
        "id": "sJNPpLLkrKB7",
        "colab_type": "text"
      },
      "cell_type": "markdown",
      "source": [
        " $output = relu(dot(W, input)) + b$"
      ]
    },
    {
      "metadata": {
        "id": "z7HDX1vCtw6Z",
        "colab_type": "text"
      },
      "cell_type": "markdown",
      "source": [
        "W: 重み  (weight)  \n",
        " b:  訓練可能パラメータ(trainable parameter)"
      ]
    },
    {
      "metadata": {
        "id": "Zgn-8DJNnFPa",
        "colab_type": "code",
        "colab": {}
      },
      "cell_type": "code",
      "source": [
        "import numpy as np\n",
        "import matplotlib.pylab as plt"
      ],
      "execution_count": 0,
      "outputs": []
    },
    {
      "metadata": {
        "id": "98e-_0OqoEhh",
        "colab_type": "code",
        "colab": {}
      },
      "cell_type": "code",
      "source": [
        "input = np.array([1, 2])"
      ],
      "execution_count": 0,
      "outputs": []
    },
    {
      "metadata": {
        "id": "mckshNgNpdmX",
        "colab_type": "code",
        "colab": {
          "base_uri": "https://localhost:8080/",
          "height": 34
        },
        "outputId": "a787d76e-892b-44af-b67b-26e1253d15fa"
      },
      "cell_type": "code",
      "source": [
        "input.shape"
      ],
      "execution_count": 35,
      "outputs": [
        {
          "output_type": "execute_result",
          "data": {
            "text/plain": [
              "(2,)"
            ]
          },
          "metadata": {
            "tags": []
          },
          "execution_count": 35
        }
      ]
    },
    {
      "metadata": {
        "id": "k0GreQFCy2Z5",
        "colab_type": "text"
      },
      "cell_type": "markdown",
      "source": [
        "* インスタンス変数\"shape\"  : 各次元の要素数を示す．  "
      ]
    },
    {
      "metadata": {
        "id": "kAIavLT2zzjV",
        "colab_type": "text"
      },
      "cell_type": "markdown",
      "source": [
        "* (2, )の意味：inputが1行2列の一次元行列．  \n",
        "  * 仮にinputが2行1列の縦ベクトルであった場合，(2, 1)となる. "
      ]
    },
    {
      "metadata": {
        "id": "M_sv1Zw5013g",
        "colab_type": "code",
        "colab": {}
      },
      "cell_type": "code",
      "source": [
        "input2 = np.array([[1], [2]])"
      ],
      "execution_count": 0,
      "outputs": []
    },
    {
      "metadata": {
        "id": "0q1PYNOc12EK",
        "colab_type": "code",
        "colab": {
          "base_uri": "https://localhost:8080/",
          "height": 52
        },
        "outputId": "1c72f268-2565-4b60-8760-f4b5de6a2508"
      },
      "cell_type": "code",
      "source": [
        "print(input2)"
      ],
      "execution_count": 37,
      "outputs": [
        {
          "output_type": "stream",
          "text": [
            "[[1]\n",
            " [2]]\n"
          ],
          "name": "stdout"
        }
      ]
    },
    {
      "metadata": {
        "id": "J8gB6PFJ15C7",
        "colab_type": "code",
        "colab": {
          "base_uri": "https://localhost:8080/",
          "height": 34
        },
        "outputId": "fa3b8b55-f181-4f8f-dc65-4979df2decca"
      },
      "cell_type": "code",
      "source": [
        "input2.shape"
      ],
      "execution_count": 38,
      "outputs": [
        {
          "output_type": "execute_result",
          "data": {
            "text/plain": [
              "(2, 1)"
            ]
          },
          "metadata": {
            "tags": []
          },
          "execution_count": 38
        }
      ]
    },
    {
      "metadata": {
        "id": "icgbRYvTxJoE",
        "colab_type": "code",
        "colab": {
          "base_uri": "https://localhost:8080/",
          "height": 34
        },
        "outputId": "e5d20d67-f84b-4eaa-d8b2-1472805802bf"
      },
      "cell_type": "code",
      "source": [
        "print(input)"
      ],
      "execution_count": 39,
      "outputs": [
        {
          "output_type": "stream",
          "text": [
            "[1 2]\n"
          ],
          "name": "stdout"
        }
      ]
    },
    {
      "metadata": {
        "id": "2lZwwvz1pova",
        "colab_type": "code",
        "colab": {}
      },
      "cell_type": "code",
      "source": [
        "W = np.array([[1, -3, 5], [-2, 4, 6]])"
      ],
      "execution_count": 0,
      "outputs": []
    },
    {
      "metadata": {
        "id": "CMxNAHFsp7dL",
        "colab_type": "code",
        "colab": {
          "base_uri": "https://localhost:8080/",
          "height": 34
        },
        "outputId": "3de3fb20-919f-474a-8d4f-42d448d27f87"
      },
      "cell_type": "code",
      "source": [
        "W.shape"
      ],
      "execution_count": 41,
      "outputs": [
        {
          "output_type": "execute_result",
          "data": {
            "text/plain": [
              "(2, 3)"
            ]
          },
          "metadata": {
            "tags": []
          },
          "execution_count": 41
        }
      ]
    },
    {
      "metadata": {
        "id": "R7FQcOoE3bc1",
        "colab_type": "code",
        "colab": {
          "base_uri": "https://localhost:8080/",
          "height": 34
        },
        "outputId": "b7f25064-38b6-498f-a474-bbe8330d4935"
      },
      "cell_type": "code",
      "source": [
        "W.size"
      ],
      "execution_count": 42,
      "outputs": [
        {
          "output_type": "execute_result",
          "data": {
            "text/plain": [
              "6"
            ]
          },
          "metadata": {
            "tags": []
          },
          "execution_count": 42
        }
      ]
    },
    {
      "metadata": {
        "id": "ldP5up7NxOp6",
        "colab_type": "code",
        "colab": {
          "base_uri": "https://localhost:8080/",
          "height": 52
        },
        "outputId": "82be50bf-e5cd-4189-a046-006fb684e090"
      },
      "cell_type": "code",
      "source": [
        "print(W)"
      ],
      "execution_count": 43,
      "outputs": [
        {
          "output_type": "stream",
          "text": [
            "[[ 1 -3  5]\n",
            " [-2  4  6]]\n"
          ],
          "name": "stdout"
        }
      ]
    },
    {
      "metadata": {
        "id": "CCKjKiiUqB0p",
        "colab_type": "code",
        "colab": {}
      },
      "cell_type": "code",
      "source": [
        "Y = np.dot(input, W)"
      ],
      "execution_count": 0,
      "outputs": []
    },
    {
      "metadata": {
        "id": "YzXWCPt6qR7y",
        "colab_type": "code",
        "colab": {
          "base_uri": "https://localhost:8080/",
          "height": 34
        },
        "outputId": "4ec4faa3-c085-4555-cc3d-05abf0caef05"
      },
      "cell_type": "code",
      "source": [
        "Y.shape"
      ],
      "execution_count": 45,
      "outputs": [
        {
          "output_type": "execute_result",
          "data": {
            "text/plain": [
              "(3,)"
            ]
          },
          "metadata": {
            "tags": []
          },
          "execution_count": 45
        }
      ]
    },
    {
      "metadata": {
        "id": "MM6EpHhnq1_2",
        "colab_type": "code",
        "colab": {
          "base_uri": "https://localhost:8080/",
          "height": 87
        },
        "outputId": "70e63eab-9a4d-436a-dbc1-bb748272085f"
      },
      "cell_type": "code",
      "source": [
        "print(input)\n",
        "print(W)\n",
        "print(Y)"
      ],
      "execution_count": 46,
      "outputs": [
        {
          "output_type": "stream",
          "text": [
            "[1 2]\n",
            "[[ 1 -3  5]\n",
            " [-2  4  6]]\n",
            "[-3  5 17]\n"
          ],
          "name": "stdout"
        }
      ]
    },
    {
      "metadata": {
        "id": "NqmB_5PG3IJ0",
        "colab_type": "code",
        "colab": {}
      },
      "cell_type": "code",
      "source": [
        "b = np.array([0.5, 1.0, 1.5])"
      ],
      "execution_count": 0,
      "outputs": []
    },
    {
      "metadata": {
        "id": "1Kwqjlipq8gz",
        "colab_type": "code",
        "colab": {}
      },
      "cell_type": "code",
      "source": [
        "def relu(x):\n",
        "  return np.maximum(0, x)"
      ],
      "execution_count": 0,
      "outputs": []
    },
    {
      "metadata": {
        "id": "1NAKPCsHxChp",
        "colab_type": "text"
      },
      "cell_type": "markdown",
      "source": [
        "<img width=400 src=\"https://upload.wikimedia.org/wikipedia/commons/f/f7/Rectifier_and_softplus_functions.png\">  \n",
        "緑：ソフトプラス関数  \n",
        "$\\varphi (x)=log(1+e^x) $  \n",
        "青：ReLU($Rectified$ $Linear$ $Unit$)関数  \n",
        "$\\varphi(x)=x_+=max(x,0)$  \n",
        "Yann LeCun(@ylecun) やジェフリー・ヒントンらが雑誌ネイチャーに書いた論文では、2015年5月現在これが最善であるとしている"
      ]
    },
    {
      "metadata": {
        "id": "_5iCFhh3xA2V",
        "colab_type": "code",
        "colab": {}
      },
      "cell_type": "code",
      "source": [
        "  output = relu(np.dot(input, W) + b)"
      ],
      "execution_count": 0,
      "outputs": []
    },
    {
      "metadata": {
        "id": "h6GIa_RB3anh",
        "colab_type": "code",
        "colab": {
          "base_uri": "https://localhost:8080/",
          "height": 34
        },
        "outputId": "595a9a41-4279-4902-f573-3697f580a53a"
      },
      "cell_type": "code",
      "source": [
        "print(output)"
      ],
      "execution_count": 50,
      "outputs": [
        {
          "output_type": "stream",
          "text": [
            "[ 0.   6.  18.5]\n"
          ],
          "name": "stdout"
        }
      ]
    },
    {
      "metadata": {
        "id": "CSv12Y994D-o",
        "colab_type": "text"
      },
      "cell_type": "markdown",
      "source": [
        "$input = \\begin{pmatrix}\n",
        "1 & 2\n",
        "\\end{pmatrix}$,    $W = \\begin{pmatrix}\n",
        "1 &- 3 & 5 \\\\\n",
        "-2 & 4 & 6\\\\\n",
        "\\end{pmatrix}$, \n",
        "$dot(input, W) = \\begin{pmatrix}\n",
        "-3 & 5 & 17 \\\\\n",
        "\\end{pmatrix}$,  \n",
        "***\n",
        "$b = \\begin{pmatrix}\n",
        "0.5 & 1.0 & 1.5 \\\\\n",
        "\\end{pmatrix}$, \n",
        "***\n",
        "$dot(input, W) + b=\\begin{pmatrix}\n",
        "-2.5 & 6 & 18.5 \\\\\n",
        "\\end{pmatrix}$\n",
        "***\n",
        "$output = relu(dot(input, W) + b)= \\begin{pmatrix}\n",
        "0 & 6 & 18.5 \\\\\n",
        "\\end{pmatrix}$"
      ]
    },
    {
      "metadata": {
        "id": "of4QM2V6-wc6",
        "colab_type": "text"
      },
      "cell_type": "markdown",
      "source": [
        "## 2.4.1 導関数"
      ]
    },
    {
      "metadata": {
        "id": "iYwdTgGzCHhW",
        "colab_type": "text"
      },
      "cell_type": "markdown",
      "source": [
        "* $y=f(x)$:実数$x$を新たな実数$y$に写像する**なめらか**な**連続**関数\n",
        "  * 連続関数\n",
        "    * $f(x + \\epsilon_x)=y+\\epsilon_y$\n",
        "  * なめらかな関数\n",
        "    * $f(x + \\epsilon_x)=y+ a \\times \\epsilon_x$ "
      ]
    },
    {
      "metadata": {
        "id": "OySry_0KE5nx",
        "colab_type": "text"
      },
      "cell_type": "markdown",
      "source": [
        "* 数値微分の例\n",
        "  * 関数「$y=0.01x^2+0.1x$」を$x=5, x=10$で微分する．"
      ]
    },
    {
      "metadata": {
        "id": "rJDAD7S1GS6m",
        "colab_type": "code",
        "colab": {}
      },
      "cell_type": "code",
      "source": [
        "def function_1(x):\n",
        "  return 0.01*x**2 + 0.1*x"
      ],
      "execution_count": 0,
      "outputs": []
    },
    {
      "metadata": {
        "id": "qw8vlpnsGeAs",
        "colab_type": "code",
        "colab": {
          "base_uri": "https://localhost:8080/",
          "height": 361
        },
        "outputId": "a24c2ba8-c32f-4b54-c38a-1f0a78f3e079"
      },
      "cell_type": "code",
      "source": [
        "x = np.arange(0.0,20.0,0.1) # 0から20まで0.1刻みのx配列\n",
        "y = function_1(x)\n",
        "plt.xlabel(\"x\")\n",
        "plt.ylabel(\"f(x)\")\n",
        "plt.plot(x, y)\n",
        "plt.show()"
      ],
      "execution_count": 52,
      "outputs": [
        {
          "output_type": "display_data",
          "data": {
            "image/png": "[encoded data removed]",
            "text/plain": [
              "<matplotlib.figure.Figure at 0x7f7ff65f0400>"
            ]
          },
          "metadata": {
            "tags": []
          }
        }
      ]
    },
    {
      "metadata": {
        "id": "mrO47UBpHB9L",
        "colab_type": "code",
        "colab": {}
      },
      "cell_type": "code",
      "source": [
        "#悪い実装例\n",
        "def numerical_diff_bad(f,x):\n",
        "  h = 10e-50\n",
        "  return (f(x+h) - f(x)) / h"
      ],
      "execution_count": 0,
      "outputs": []
    },
    {
      "metadata": {
        "id": "Ny7cT0EEH_Au",
        "colab_type": "code",
        "colab": {
          "base_uri": "https://localhost:8080/",
          "height": 34
        },
        "outputId": "a230bcb2-0177-4b94-fe23-da1a76ed651c"
      },
      "cell_type": "code",
      "source": [
        "numerical_diff_bad(function_1, 5)"
      ],
      "execution_count": 54,
      "outputs": [
        {
          "output_type": "execute_result",
          "data": {
            "text/plain": [
              "0.0"
            ]
          },
          "metadata": {
            "tags": []
          },
          "execution_count": 54
        }
      ]
    },
    {
      "metadata": {
        "id": "peuMjsFeIOLd",
        "colab_type": "code",
        "colab": {
          "base_uri": "https://localhost:8080/",
          "height": 34
        },
        "outputId": "a1035d17-3529-45be-d3dd-eb862bdd6fc7"
      },
      "cell_type": "code",
      "source": [
        "numerical_diff_bad(function_1, 10)"
      ],
      "execution_count": 55,
      "outputs": [
        {
          "output_type": "execute_result",
          "data": {
            "text/plain": [
              "0.0"
            ]
          },
          "metadata": {
            "tags": []
          },
          "execution_count": 55
        }
      ]
    },
    {
      "metadata": {
        "id": "fGRDi5ZYH7hM",
        "colab_type": "text"
      },
      "cell_type": "markdown",
      "source": [
        "  * 改善ポイント①：丸め誤差\n",
        "    * hが無限小になるのが理想．\n",
        "    * 一方で，丸め誤差（小数の小さな範囲で数値が省略されることで生じる計算誤差）が結果に悪影響を及ぼしている．"
      ]
    },
    {
      "metadata": {
        "id": "tIQN7jmfH1x5",
        "colab_type": "code",
        "colab": {
          "base_uri": "https://localhost:8080/",
          "height": 34
        },
        "outputId": "1ca0d13c-daba-4f89-8b9f-e94b90d75148"
      },
      "cell_type": "code",
      "source": [
        "np.float32(1e-50)"
      ],
      "execution_count": 56,
      "outputs": [
        {
          "output_type": "execute_result",
          "data": {
            "text/plain": [
              "0.0"
            ]
          },
          "metadata": {
            "tags": []
          },
          "execution_count": 56
        }
      ]
    },
    {
      "metadata": {
        "id": "_1u4Yt0rLY_6",
        "colab_type": "text"
      },
      "cell_type": "markdown",
      "source": [
        "$1.175494 \\times 10^{-38} < float の絶対値 < 3.402823 \\times 10^{38}$"
      ]
    },
    {
      "metadata": {
        "id": "AEtQim9mMaDQ",
        "colab_type": "text"
      },
      "cell_type": "markdown",
      "source": [
        "* 改善ポイント②：関数$f$についての差分が前進差分であること  \n",
        "![代替テキスト](http://image.gihyo.co.jp/assets/images/book/serial/2007/java-calculation/0070-01.jpg)  \n",
        "  * 前進差分では，$x$の位置での関数の傾きを，$(x+h)$と$x$の間の傾きで表している\n",
        "    - 真の接線と今回の実装の値が厳密には一致しない  \n",
        "    →$h$を無限小にできないため\n",
        "  * 中心差分により接線の傾きの誤差を軽減することができる\n",
        "    * $f'(x)=\\frac{f(x+h)-f(x-h)}{2h}$\n",
        "  "
      ]
    },
    {
      "metadata": {
        "id": "bUszf5fGKE0g",
        "colab_type": "code",
        "colab": {}
      },
      "cell_type": "code",
      "source": [
        "def numerical_diff(f, x):\n",
        "  h = 1e-4\n",
        "  return (f(x+h)-f(x-h)) / (2*h)"
      ],
      "execution_count": 0,
      "outputs": []
    },
    {
      "metadata": {
        "id": "FI4q5sSnRDk4",
        "colab_type": "code",
        "colab": {
          "base_uri": "https://localhost:8080/",
          "height": 34
        },
        "outputId": "ea7c4478-0e8b-4624-9b6c-43c6c6dec2ab"
      },
      "cell_type": "code",
      "source": [
        "numerical_diff(function_1, 5)"
      ],
      "execution_count": 58,
      "outputs": [
        {
          "output_type": "execute_result",
          "data": {
            "text/plain": [
              "0.1999999999990898"
            ]
          },
          "metadata": {
            "tags": []
          },
          "execution_count": 58
        }
      ]
    },
    {
      "metadata": {
        "id": "K5cxuOYzRLwJ",
        "colab_type": "code",
        "colab": {
          "base_uri": "https://localhost:8080/",
          "height": 34
        },
        "outputId": "9fbfba7d-26f4-4ee4-bf73-1a173f64421f"
      },
      "cell_type": "code",
      "source": [
        "numerical_diff(function_1, 10)"
      ],
      "execution_count": 59,
      "outputs": [
        {
          "output_type": "execute_result",
          "data": {
            "text/plain": [
              "0.2999999999986347"
            ]
          },
          "metadata": {
            "tags": []
          },
          "execution_count": 59
        }
      ]
    },
    {
      "metadata": {
        "id": "v8433R9ORo0-",
        "colab_type": "code",
        "colab": {}
      },
      "cell_type": "code",
      "source": [
        "def tangent_line(f, x):\n",
        "    d = numerical_diff(f, x)\n",
        "    print(d)\n",
        "    y = f(x) - d*x\n",
        "    return lambda t: d*t + y"
      ],
      "execution_count": 0,
      "outputs": []
    },
    {
      "metadata": {
        "id": "J9hvGo8WR1_q",
        "colab_type": "code",
        "colab": {
          "base_uri": "https://localhost:8080/",
          "height": 396
        },
        "outputId": "666db999-ac20-46e5-d2f3-ce899039f5f0"
      },
      "cell_type": "code",
      "source": [
        "tf = tangent_line(function_1, 5)\n",
        "y2 = tf(x)\n",
        "tf2 = tangent_line(function_1, 10)\n",
        "y3 = tf2(x)\n",
        "plt.subplot(1,2,1)\n",
        "plt.plot(x, y)\n",
        "plt.plot(x, y2)\n",
        "plt.xlabel(\"x\")\n",
        "plt.ylabel(\"$f(x)$\")\n",
        "plt.subplot(1,2,2)\n",
        "plt.plot(x, y)\n",
        "plt.plot(x, y3)\n",
        "plt.xlabel(\"x\")\n",
        "plt.ylabel(\"$f(x)$\")\n",
        "plt.show()"
      ],
      "execution_count": 61,
      "outputs": [
        {
          "output_type": "stream",
          "text": [
            "0.1999999999990898\n",
            "0.2999999999986347\n"
          ],
          "name": "stdout"
        },
        {
          "output_type": "display_data",
          "data": {
            "image/png": "[encoded data removed]",
            "text/plain": [
              "<matplotlib.figure.Figure at 0x7f7ff64b1198>"
            ]
          },
          "metadata": {
            "tags": []
          }
        }
      ]
    },
    {
      "metadata": {
        "id": "lWO7dZnDTr8f",
        "colab_type": "text"
      },
      "cell_type": "markdown",
      "source": [
        "* $f(x)$の値を最小化するためには，$f'(x)$と逆方向に$x$を移動させる．  \n"
      ]
    },
    {
      "metadata": {
        "id": "_ID8hjL0VOip",
        "colab_type": "text"
      },
      "cell_type": "markdown",
      "source": [
        "## 2.4.2 テンソル演算の導関数：勾配"
      ]
    },
    {
      "metadata": {
        "id": "U9Cq6cdLVod1",
        "colab_type": "text"
      },
      "cell_type": "markdown",
      "source": [
        "* 勾配：導関数の概念を多次元入力の関数として一般化したもの"
      ]
    },
    {
      "metadata": {
        "id": "fNgPKKk4Vl67",
        "colab_type": "text"
      },
      "cell_type": "markdown",
      "source": [
        "<img width = 600, src= \"https://camo.qiitausercontent.com/9dfab74413ea06e780fe443913ae3a04f9b6dbf3/68747470733a2f2f71696974612d696d6167652d73746f72652e73332e616d617a6f6e6177732e636f6d2f302f3134353036372f36663661323039392d356539632d666233352d333633352d6466643163636361636537612e706e67\">  \n",
        "<br>\n",
        "$y_{pred}=dot(W, input)$  \n",
        "<br>\n",
        "$E=loss(y_{pred}, y)$  \n",
        "<br>\n",
        "入力ベクトル$input$と目的値$y$を固定すると，  \n",
        "<br>\n",
        "$E = f(W)$  \n",
        "<br>\n",
        "重みの初期値$W_0$に対して勾配降下を１ステップ分行う．  \n",
        "<br>\n",
        "$W_1=W_0-\\alpha \\cdot grad(f(W_0))$  \n",
        "<br>\n",
        "$W_0$から離れすぎないように$\\alpha$で抑制する．"
      ]
    },
    {
      "metadata": {
        "id": "ocPMTtbHZxMi",
        "colab_type": "text"
      },
      "cell_type": "markdown",
      "source": [
        "## 2.4.3 確率的勾配降下法"
      ]
    },
    {
      "metadata": {
        "id": "VA4Q223v0r9c",
        "colab_type": "text"
      },
      "cell_type": "markdown",
      "source": [
        "・**ミニバッチ確率的勾配降下法**  \n",
        "微分可能な関数：解析的に最小値を求めることができる  \n",
        "　　　　　⇩  【ニューラルネットワークに当てはめる】  \n",
        "損失関数$E(w)$をできるだけ小さくするような$w$の組み合わせを求める  \n",
        "→$gradient(E({\\bf w}))=0$となる${\\bf w}$を求める  \n",
        "　　　　　⇩  【しかしながら実際は】  \n",
        "W.size = 10,000~100,000,000~，とネットワーク係数の数は膨大であり，  \n",
        "全事例について上の式を解くのは手に負えない  \n",
        "　　　　　⇩  【そこで】  \n",
        "ランダム(**確率的**)なデータバッチでの現在の損失関数に基づいて，  \n",
        "パラメータを少しずつ調整していく"
      ]
    },
    {
      "metadata": {
        "id": "xlMg9n2mQA2m",
        "colab_type": "text"
      },
      "cell_type": "markdown",
      "source": [
        "![代替テキスト](https://image.slidesharecdn.com/pp-160107085353/95/prml-5-pp227pp247-82-638.jpg?cb=1452156980)  \n",
        "* **真**の確率的勾配降下法：オンライン学習  \n",
        "  * 学習データを一つずつ使って逐次的に修正を行っていく．\n",
        "  * 弱点：外れ値・ノイズによる影響を受けやすい．\n",
        "  * 特長：処理速度が非常に高速\n",
        "    * 弱点を補う手法も存在する．（Passive Aggressive-1）\n"
      ]
    },
    {
      "metadata": {
        "id": "pIV3Lj8ASWTt",
        "colab_type": "text"
      },
      "cell_type": "markdown",
      "source": [
        "* 損失面についての理解を深める場合には，  \n",
        "2次元の損失面に沿って勾配降下法を可視化することも可能．\n",
        "  * 一方で，NNの訓練プロセスが実際にどうなってるかを完全に可視化してみる，  \n",
        "  というわけにはいかない．\n",
        "  * ネットワークの重み係数の次元は数万・数百万におよぶため．\n",
        "  * そのため，低次元の表現を通じて養われる直観が，実際に常に正確であるとは限らない．  \n",
        "  ![代替テキスト](https://ml4a.github.io/images/figures/bumpy_gradient_descent.png)  \n",
        "  2つのパラメータ :$\\theta _0$と $\\theta _1$を持つ非凸損失関数に勾配降下法を適用した例。 出典：Andrew Ng"
      ]
    },
    {
      "metadata": {
        "id": "fAf-Tqc_Un6m",
        "colab_type": "text"
      },
      "cell_type": "markdown",
      "source": [
        "*  **SGD(確率的勾配降下法)のバリエーション**  \n",
        "  * 最もシンプルな勾配降下法(SGD)：次の重み$w$を更新するときに現在の勾配を調べる．\n",
        "    * $\\bf {W}\\gets\\bf{W}-\\eta \\frac{\\partial L}{\\partial \\bf{W}}$ \n",
        "  * バリエーション：以前の重みの更新を考慮に入れるもの\n",
        "    * 以下のようなバリエーションに多く取り入れられている概念として  \n",
        "    **モーメンタム(momentum)**がある．\n",
        "      * モーメンタムの利点\n",
        "        * シンプルな方法に比べて収束の速度が向上\n",
        "        * 大域的最小値（Global minimum）に誘導してくれる\n",
        "        * これらは，モーメンタムの「現在の勾配（加速）だけでなく，過去の加速度の影響も考慮入れている」ことに起因する．\n",
        "    * 1:モーメンタムSGD(SGD with momentum)\n",
        "      * $\\bf {v}\\gets \\alpha \\bf{v}-\\eta \\frac{\\partial L}{\\partial \\bf{W}}\\\\ \\bf{W}\\gets\\bf{W}+\\bf{v}$  \n",
        "      * $\\bf{v}$が「速度」に対応する\n",
        "    * 2:Adagrad  \n",
        "      * $\\bf{h} \\gets \\bf{h} +\\frac{\\partial L}{\\partial \\bf{W}} \\odot \\frac{\\partial L}{\\partial \\bf{W}}\\\\\\bf{W}\\gets\\bf{W}-\\eta \\frac{1}{\\sqrt{\\bf{h}}}\\frac{\\partial L}{\\partial \\bf{W}}$\n",
        "      * $\\bf{h}$はこれまで経験した勾配の値を２乗和として保持する．  \n",
        "      ($\\odot$は行列の要素ごとの掛け算を表す)\n",
        "      * パラメータ更新のときに$\\frac{1}{\\sqrt{\\bf{h}}}$を乗算することで，学習スケールの調整を行う．\n",
        "        * パラメータの要素の中でよく動いた（大きく更新された）要素は，学習係数が小さくなることを表している．\n",
        "        * よく動いたパラメータの学習係数が次第に小さくなるという，**学習係数の減衰**をパラメータの要素ごとに行っている．\n",
        "      \n",
        "    * 3: RMSProp\n",
        "      * $\\bf{h} \\gets \\gamma \\bf{h} +(1-\\gamma)\\frac{\\partial L}{\\partial \\bf{W}} \\odot \\frac{\\partial L}{\\partial \\bf{W}}\\\\ \\bf{W}\\gets\\bf{W}-\\eta \\frac{1}{\\sqrt{\\bf{h}}}\\frac{\\partial L}{\\partial \\bf{W}}$  \n",
        "      where, $\\gamma \\simeq 0.9$\n",
        "      * Adagradには問題点がある．\n",
        "        * 過去の勾配を２乗和としてすべて記録している\n",
        "        * そのため，学習が進むにつれて更新度合いが少なくなる\n",
        "        * 仮に無限回更新した場合，更新量が０に収束する．  \n",
        "        →さらに大局的最小値に近づくことが不可能\n",
        "      * RMSPropはAdagradの問題点を解消する\n",
        "        * Adagradのように過去のすべての勾配を均一に加算するのではなく，  \n",
        "        **過去の勾配を忘れて**，新しい勾配の情報が大きく反映されるように，  \n",
        "        重みづけをして加算する．\n",
        "      \n",
        "    * これら１～３は，最適化法(optimization method)，オプティマイザ(optimizer)と呼ばれる\n",
        "    "
      ]
    },
    {
      "metadata": {
        "id": "rjDrxWRwWdLz",
        "colab_type": "code",
        "colab": {
          "base_uri": "https://localhost:8080/",
          "height": 376
        },
        "outputId": "f41adaec-252b-43a5-c614-f90fb4f32791"
      },
      "cell_type": "code",
      "source": [
        "# coding: utf-8\n",
        "import numpy as np\n",
        "import matplotlib.pyplot as plt\n",
        "from collections import OrderedDict\n",
        "\n",
        "class SGD:\n",
        "\n",
        "    \"\"\"確率的勾配降下法（Stochastic Gradient Descent）\"\"\"\n",
        "\n",
        "    def __init__(self, lr=0.01):\n",
        "        self.lr = lr\n",
        "        \n",
        "    def update(self, params, grads):\n",
        "        for key in params.keys():\n",
        "            params[key] -= self.lr * grads[key] \n",
        "\n",
        "\n",
        "class Momentum:\n",
        "\n",
        "    \"\"\"Momentum SGD\"\"\"\n",
        "\n",
        "    def __init__(self, lr=0.01, momentum=0.9):\n",
        "        self.lr = lr\n",
        "        self.momentum = momentum\n",
        "        self.v = None\n",
        "        \n",
        "    def update(self, params, grads):\n",
        "        if self.v is None:\n",
        "            self.v = {}\n",
        "            for key, val in params.items():                                \n",
        "                self.v[key] = np.zeros_like(val)\n",
        "                \n",
        "        for key in params.keys():\n",
        "            self.v[key] = self.momentum*self.v[key] - self.lr*grads[key] \n",
        "            params[key] += self.v[key]\n",
        "\n",
        "\n",
        "class AdaGrad:\n",
        "\n",
        "    \"\"\"AdaGrad\"\"\"\n",
        "\n",
        "    def __init__(self, lr=0.01):\n",
        "        self.lr = lr\n",
        "        self.h = None\n",
        "        \n",
        "    def update(self, params, grads):\n",
        "        if self.h is None:\n",
        "            self.h = {}\n",
        "            for key, val in params.items():\n",
        "                self.h[key] = np.zeros_like(val)\n",
        "            \n",
        "        for key in params.keys():\n",
        "            self.h[key] += grads[key] * grads[key]\n",
        "            params[key] -= self.lr * grads[key] / (np.sqrt(self.h[key]) + 1e-7)\n",
        "\n",
        "class RMSprop:\n",
        "\n",
        "    \"\"\"RMSprop\"\"\"\n",
        "\n",
        "    def __init__(self, lr=0.01, decay_rate = 0.99):\n",
        "        self.lr = lr\n",
        "        self.decay_rate = decay_rate\n",
        "        self.h = None\n",
        "        \n",
        "    def update(self, params, grads):\n",
        "        if self.h is None:\n",
        "            self.h = {}\n",
        "            for key, val in params.items():\n",
        "                self.h[key] = np.zeros_like(val)\n",
        "            \n",
        "        for key in params.keys():\n",
        "            self.h[key] *= self.decay_rate\n",
        "            self.h[key] += (1 - self.decay_rate) * grads[key] * grads[key]\n",
        "            params[key] -= self.lr * grads[key] / (np.sqrt(self.h[key]) + 1e-7)\n",
        "\n",
        "\n",
        "def f(x, y):\n",
        "    return x**2 / 20.0 + y**2\n",
        "\n",
        "\n",
        "def df(x, y):\n",
        "    return x / 10.0, 2.0*y\n",
        "  \n",
        "\"\"\"初期条件\"\"\"\n",
        "init_pos = (-7.0, 2.0)\n",
        "params = {}\n",
        "params['x'], params['y'] = init_pos[0], init_pos[1]\n",
        "grads = {}\n",
        "grads['x'], grads['y'] = 0, 0\n",
        "\n",
        "\"\"\"オプティマイザの辞書配列を作成\"\"\"\n",
        "optimizers = OrderedDict()\n",
        "optimizers[\"SGD\"] = SGD(lr=0.95)\n",
        "optimizers[\"Momentum\"] = Momentum(lr=0.1)\n",
        "optimizers[\"AdaGrad\"] = AdaGrad(lr=1.5)\n",
        "optimizers[\"RMSprop\"] = RMSprop(lr=0.1)\n",
        "idx = 1\n",
        "\n",
        "\"\"\"オプティマイザを選択\"\"\"\n",
        "for key in optimizers:\n",
        "    optimizer = optimizers[key]\n",
        "    x_history = []\n",
        "    y_history = []\n",
        "    params['x'], params['y'] = init_pos[0], init_pos[1]\n",
        "    \"\"\"ここでオプティマイザを繰り返し適用している\"\"\"\n",
        "    for i in range(30):\n",
        "      x_history.append(params['x'])\n",
        "      y_history.append(params['y'])\n",
        "      grads['x'], grads['y'] = df(params['x'], params['y'])\n",
        "      optimizer.update(params, grads)\n",
        "    \n",
        "\n",
        "    x = np.arange(-10, 10, 0.01)\n",
        "    y = np.arange(-5, 5, 0.01)\n",
        "    \n",
        "    X, Y = np.meshgrid(x, y) \n",
        "    Z = f(X, Y)\n",
        "    \n",
        "    # for simple contour line  \n",
        "    mask = Z > 7\n",
        "    Z[mask] = 0\n",
        "    \n",
        "    # plot \n",
        "    plt.subplot(2, 2, idx)\n",
        "    idx += 1\n",
        "    plt.plot(x_history, y_history, 'o-', color=\"red\")\n",
        "    plt.contour(X, Y, Z)\n",
        "    plt.ylim(-10, 10)\n",
        "    plt.xlim(-10, 10)\n",
        "    plt.plot(0, 0, '+')\n",
        "    #colorbar()\n",
        "    #spring()\n",
        "    plt.title(key)\n",
        "    plt.xlabel(\"x\")\n",
        "    plt.ylabel(\"y\")\n",
        "    \n",
        "plt.show()"
      ],
      "execution_count": 67,
      "outputs": [
        {
          "output_type": "display_data",
          "data": {
            "image/png": "[encoded data removed]",
            "text/plain": [
              "<matplotlib.figure.Figure at 0x7f7ff62dda20>"
            ]
          },
          "metadata": {
            "tags": []
          }
        }
      ]
    },
    {
      "metadata": {
        "id": "OzQFAiDF3Zj5",
        "colab_type": "text"
      },
      "cell_type": "markdown",
      "source": [
        "## 2.4.4 導関数の連鎖：バックプロパゲーションアルゴリズム\n",
        "* 導関数は明示的に計算することができる\n",
        "  * 修正を繰り返すたびに導関数（重み係数の修正量）を求めるのは計算コストが高い\n",
        "  * 共通している既知の微分をつなぎ合わせて修正量を算出すれば，計算コストを大幅に抑えられる\n",
        "    * 誤差逆伝播法\n",
        "      * 最終的な損失値を出発点として，出力層から入力層に向かって逆方向に進む．\n",
        "      * 辿り終えると，重み係数を**連鎖律**(chain rule)を用いてかけあわせ，修正量を求める．\n",
        "      * 数値微分を細かく行うのではなく，解析解としての微分係数を使って修正量を求める．\n",
        "    * 連鎖律\n",
        "      * ![代替テキスト](https://wikimedia.org/api/rest_v1/media/math/render/svg/be86019d87b8b668b1429293a6faeb4dfb5b7b2a)  \n",
        "      ![代替テキスト](https://wikimedia.org/api/rest_v1/media/math/render/svg/d89a3475a6e57343c921475b16b9d41b60c98304)\n",
        "    * 計算グラフ\n",
        "      * 誤差逆伝播法を説明するために，複雑な計算処理を可視化する計算グラフが利用されることが多い．\n",
        "        * 辿るという動作を可視化しているため分かりやすい．\n",
        "      * $a = 3\\\\b = 2\\\\c = 4\\\\d = 5$  \n",
        "      を計算グラフに当てはめて考える．\n",
        "      ![代替テキスト](https://deepage.net/img/backpropagation/bp-computation-graph.jpg)  \n",
        "        * 上の計算グラフはadd(加算)とmul(乗算)ノードで構成されている.  \n",
        "        ※その他ノードの紹介(https://qiita.com/t-tkd3a/items/031c0a4dbf25fd2866a3)\n",
        "          * 加算ノード  \n",
        "          ![代替テキスト](https://camo.qiitausercontent.com/c152942642de8c4d3398648ea233e09302ea0430/68747470733a2f2f71696974612d696d6167652d73746f72652e73332e616d617a6f6e6177732e636f6d2f302f3136393538392f39336236663539662d613237382d663832302d383564662d6631336132383734313932632e706e67)\n",
        "          * 乗算ノード  \n",
        "        ![代替テキスト](https://camo.qiitausercontent.com/da64457dcc8cd66bc959e02fed5e42961fd84da1/68747470733a2f2f71696974612d696d6167652d73746f72652e73332e616d617a6f6e6177732e636f6d2f302f3136393538392f39383336373436332d626631382d623838392d633463652d6433373339303935386630632e706e67)\n",
        "       * 計算グラフ(全体図)  \n",
        "       ![代替テキスト](https://deepage.net/img/backpropagation/reverse-mode-diff.jpg)  \n",
        "      $\\frac{\\partial g}{\\partial a} =\n",
        "      \\frac{\\partial g}{\\partial e} \\frac{\\partial e}{\\partial a} = 2\\\\\n",
        "      \\frac{\\partial g}{\\partial b} = \\frac{\\partial g}{\\partial e}\n",
        "      \\frac{\\partial e}{\\partial b} = 3\\\\\\frac{\\partial g}{\\partial c} =\n",
        "      \\frac{\\partial g}{\\partial f} \\frac{\\partial f}{\\partial c} = 5\\\\\n",
        "      \\frac{\\partial g}{\\partial d} = \\frac{\\partial g}{\\partial f}\n",
        "      \\frac{\\partial f}{\\partial d} = 4$\n",
        "      "
      ]
    },
    {
      "metadata": {
        "id": "86YafTp69K7Q",
        "colab_type": "code",
        "colab": {}
      },
      "cell_type": "code",
      "source": [
        ""
      ],
      "execution_count": 0,
      "outputs": []
    }
  ]
}